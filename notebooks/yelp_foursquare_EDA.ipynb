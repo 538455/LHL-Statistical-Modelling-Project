{
 "cells": [
  {
   "cell_type": "markdown",
   "metadata": {
    "tags": []
   },
   "source": [
    "# Foursquare"
   ]
  },
  {
   "cell_type": "markdown",
   "metadata": {
    "tags": []
   },
   "source": [
    "## Send a request to Foursquare with a small radius (1000m) for all the bike stations in your city of choice. "
   ]
  },
  {
   "cell_type": "markdown",
   "metadata": {
    "jp-MarkdownHeadingCollapsed": true,
    "tags": []
   },
   "source": [
    "### Import Libraries"
   ]
  },
  {
   "cell_type": "code",
   "execution_count": 9,
   "metadata": {},
   "outputs": [],
   "source": [
    "# Import required librairies and modules\n",
    "import os   #used to access the values of environment variables\n",
    "import requests #send api requests\n",
    "import json # to read json files\n",
    "import pandas as pd # data processing, CSV file I/O (e.g. pd.read_csv)\n",
    "import numpy as np # linear algebra\n",
    "import matplotlib.pyplot as plt # data visualization\n",
    "import seaborn as sns # data visualization"
   ]
  },
  {
   "cell_type": "markdown",
   "metadata": {
    "tags": []
   },
   "source": [
    "### Defining a function to pull all venues within 1km of a specified lat/long\n"
   ]
  },
  {
   "cell_type": "code",
   "execution_count": 10,
   "metadata": {},
   "outputs": [],
   "source": [
    "def get_venues(ll, id):\n",
    "\n",
    "    #Retrieving API key\n",
    "    api_key=os.getenv('FOURSQUARE_API')\n",
    "    \n",
    "    url = \"https://api.foursquare.com/v3/places/search?ll=\" + ll + \"&radius=1000&categories=13000%2C12072&fields=fsq_id%2Ccategories%2Cname%2Crating&limit=50\"\n",
    "\n",
    "    headers = {\n",
    "        \"accept\": \"application/json\",\n",
    "        \"Authorization\": api_key \n",
    "    }\n",
    "\n",
    "    reponse = requests.get(url, headers=headers)\n",
    "\n",
    "    venues_json = json.loads(reponse.text)\n",
    "\n",
    "    \n",
    "    # Parse thru the JSON to get the required info. Below are my parsing commands & process,\n",
    "        # print(venues_json.keys()) #Returns two keys. The second one has no information of interest so focus on the first one\n",
    "        # print(pd.json_normalize(venues_json['results'])) #Perfect. Categories has a dictionnary, let's parse it to see what it has.\n",
    "        # print(pd.json_normalize(venues_json['results'], record_path=['categories'])) #Parse down the categories. We'll only be interested in counting the amount of results so this is too specific for us\n",
    "\n",
    "\n",
    "    # Add to a df\n",
    "    add_df = pd.json_normalize(venues_json['results'])\n",
    "    \n",
    "    #adding a column to the DF to refer to the ID of the bikes DF. Will be used later to join the data.\n",
    "    add_df['bikestation_id'] = id\n",
    "    \n",
    "    #For this project, we'll consolidate all foursquare return to a df, but also store the number of results into the bikes df\n",
    "    global fsq_df\n",
    "    \n",
    "    fsq_df = pd.concat([fsq_df, add_df], ignore_index=True)\n",
    "    \n",
    "    return len(add_df)"
   ]
  },
  {
   "cell_type": "markdown",
   "metadata": {
    "tags": []
   },
   "source": [
    "### Get the data for the bike stations"
   ]
  },
  {
   "cell_type": "code",
   "execution_count": 11,
   "metadata": {},
   "outputs": [],
   "source": [
    "citybikes_df = pd.read_csv('Vancouver_BikeStation.csv') \n",
    "\n",
    "# Add a column to the df that will include the amount of POIs\n",
    "citybikes_df['foursquare_venues'] = \"\"\n",
    "\n",
    "fsq_df = pd.DataFrame() #Creating an empty df to store pulls from Foursquare. Will be used in the function below\n",
    "\n",
    "\n",
    "#We need to loop thru all records of citybikes_df, but also return values of column 'latitude', 'Longitude' and 'id' as they are needed for the get_values function. This is the only working solution I found:\n",
    "for i, j, k in zip(citybikes_df['id'].values, citybikes_df['latitude'].values, citybikes_df['longitude'].values):\n",
    "    #Set ll to the lat and long of the station of this row\n",
    "    lat= round(j, 2)\n",
    "    long= round(k,2)\n",
    "\n",
    "    ll = str(lat) + ',' + str(long)\n",
    "        \n",
    "    #modify value of a column where the value of another column is a certain value\n",
    "    citybikes_df.loc[citybikes_df['id'] == i, 'foursquare_venues'] = get_venues(ll, i)    "
   ]
  },
  {
   "cell_type": "markdown",
   "metadata": {
    "jp-MarkdownHeadingCollapsed": true,
    "tags": []
   },
   "source": [
    "### Checking the amount of results to confirm it worked."
   ]
  },
  {
   "cell_type": "code",
   "execution_count": 12,
   "metadata": {},
   "outputs": [
    {
     "data": {
      "text/plain": [
       "(11595, 5)"
      ]
     },
     "execution_count": 12,
     "metadata": {},
     "output_type": "execute_result"
    }
   ],
   "source": [
    "fsq_df.shape"
   ]
  },
  {
   "cell_type": "markdown",
   "metadata": {},
   "source": [
    "## Parse through the response to get the POI (such as restaurants, bars, etc) details you want (ratings, name, location, etc)"
   ]
  },
  {
   "cell_type": "markdown",
   "metadata": {
    "jp-MarkdownHeadingCollapsed": true,
    "tags": []
   },
   "source": [
    "### I chose which fields to include at the API request.So no need to remove unwanted columns."
   ]
  },
  {
   "cell_type": "code",
   "execution_count": 13,
   "metadata": {},
   "outputs": [
    {
     "data": {
      "text/html": [
       "<div>\n",
       "<style scoped>\n",
       "    .dataframe tbody tr th:only-of-type {\n",
       "        vertical-align: middle;\n",
       "    }\n",
       "\n",
       "    .dataframe tbody tr th {\n",
       "        vertical-align: top;\n",
       "    }\n",
       "\n",
       "    .dataframe thead th {\n",
       "        text-align: right;\n",
       "    }\n",
       "</style>\n",
       "<table border=\"1\" class=\"dataframe\">\n",
       "  <thead>\n",
       "    <tr style=\"text-align: right;\">\n",
       "      <th></th>\n",
       "      <th>fsq_id</th>\n",
       "      <th>categories</th>\n",
       "      <th>name</th>\n",
       "      <th>rating</th>\n",
       "      <th>bikestation_id</th>\n",
       "    </tr>\n",
       "  </thead>\n",
       "  <tbody>\n",
       "    <tr>\n",
       "      <th>0</th>\n",
       "      <td>5674aec9498e6800815c3598</td>\n",
       "      <td>[{'id': 13199, 'name': 'Indian Restaurant', 'i...</td>\n",
       "      <td>Vij's</td>\n",
       "      <td>9.0</td>\n",
       "      <td>7a19c49f486d7c0c02b3685d7b240448</td>\n",
       "    </tr>\n",
       "    <tr>\n",
       "      <th>1</th>\n",
       "      <td>4aec909ff964a520ccc821e3</td>\n",
       "      <td>[{'id': 13035, 'name': 'Coffee Shop', 'icon': ...</td>\n",
       "      <td>Milano Coffee</td>\n",
       "      <td>8.7</td>\n",
       "      <td>7a19c49f486d7c0c02b3685d7b240448</td>\n",
       "    </tr>\n",
       "    <tr>\n",
       "      <th>2</th>\n",
       "      <td>51b201d27dd249ae714ba728</td>\n",
       "      <td>[{'id': 13003, 'name': 'Bar', 'icon': {'prefix...</td>\n",
       "      <td>33 Acres Brewing Co</td>\n",
       "      <td>9.2</td>\n",
       "      <td>7a19c49f486d7c0c02b3685d7b240448</td>\n",
       "    </tr>\n",
       "    <tr>\n",
       "      <th>3</th>\n",
       "      <td>5177156c498ea4fd6b901dda</td>\n",
       "      <td>[{'id': 13034, 'name': 'Café', 'icon': {'prefi...</td>\n",
       "      <td>Aperture Coffee Bar</td>\n",
       "      <td>8.4</td>\n",
       "      <td>7a19c49f486d7c0c02b3685d7b240448</td>\n",
       "    </tr>\n",
       "    <tr>\n",
       "      <th>4</th>\n",
       "      <td>4e223f06d4c0d32590f80ff4</td>\n",
       "      <td>[{'id': 13306, 'name': 'Taco Restaurant', 'ico...</td>\n",
       "      <td>La Taqueria Pinche Taco Shop</td>\n",
       "      <td>8.7</td>\n",
       "      <td>7a19c49f486d7c0c02b3685d7b240448</td>\n",
       "    </tr>\n",
       "  </tbody>\n",
       "</table>\n",
       "</div>"
      ],
      "text/plain": [
       "                     fsq_id  \\\n",
       "0  5674aec9498e6800815c3598   \n",
       "1  4aec909ff964a520ccc821e3   \n",
       "2  51b201d27dd249ae714ba728   \n",
       "3  5177156c498ea4fd6b901dda   \n",
       "4  4e223f06d4c0d32590f80ff4   \n",
       "\n",
       "                                          categories  \\\n",
       "0  [{'id': 13199, 'name': 'Indian Restaurant', 'i...   \n",
       "1  [{'id': 13035, 'name': 'Coffee Shop', 'icon': ...   \n",
       "2  [{'id': 13003, 'name': 'Bar', 'icon': {'prefix...   \n",
       "3  [{'id': 13034, 'name': 'Café', 'icon': {'prefi...   \n",
       "4  [{'id': 13306, 'name': 'Taco Restaurant', 'ico...   \n",
       "\n",
       "                           name  rating                    bikestation_id  \n",
       "0                         Vij's     9.0  7a19c49f486d7c0c02b3685d7b240448  \n",
       "1                 Milano Coffee     8.7  7a19c49f486d7c0c02b3685d7b240448  \n",
       "2           33 Acres Brewing Co     9.2  7a19c49f486d7c0c02b3685d7b240448  \n",
       "3           Aperture Coffee Bar     8.4  7a19c49f486d7c0c02b3685d7b240448  \n",
       "4  La Taqueria Pinche Taco Shop     8.7  7a19c49f486d7c0c02b3685d7b240448  "
      ]
     },
     "execution_count": 13,
     "metadata": {},
     "output_type": "execute_result"
    }
   ],
   "source": [
    "fsq_df.head()"
   ]
  },
  {
   "cell_type": "markdown",
   "metadata": {},
   "source": [
    "Not too sure about categories yet. I'll leave it there just in case, but likely won't use it."
   ]
  },
  {
   "cell_type": "markdown",
   "metadata": {
    "jp-MarkdownHeadingCollapsed": true,
    "tags": []
   },
   "source": [
    "## Put your parsed results into a DataFrame"
   ]
  },
  {
   "cell_type": "code",
   "execution_count": 9,
   "metadata": {},
   "outputs": [],
   "source": [
    "# Results are stored in fsq_df. However, I will save them to a csv as well.\n",
    "fsq_df.to_csv('Foursquare_venues.csv')"
   ]
  },
  {
   "cell_type": "markdown",
   "metadata": {
    "tags": []
   },
   "source": [
    "# Yelp"
   ]
  },
  {
   "cell_type": "markdown",
   "metadata": {
    "tags": []
   },
   "source": [
    "## Send a request to Yelp with a small radius (1000m) for all the bike stations in your city of choice. "
   ]
  },
  {
   "cell_type": "markdown",
   "metadata": {},
   "source": [
    "### Defining a function to pull all venues within 1km of a specified lat/long"
   ]
  },
  {
   "cell_type": "code",
   "execution_count": 28,
   "metadata": {},
   "outputs": [],
   "source": [
    "def get_business_yelp(lat, long, id):\n",
    "    #Retrieving API key\n",
    "    api_key=os.getenv('YELP_API')\n",
    "    \n",
    "    url = \"https://api.yelp.com/v3/businesses/search?latitude=\" + lat + \"&longitude=\" + long + \"&radius=1000&categories=nightlife,bars,restaurants,policedepartments&limit=50\"\n",
    "\n",
    "    # headers contain the api key.\n",
    "    headers = {'Authorization': 'Bearer {}'.format(api_key)}\n",
    "\n",
    "    response = requests.get(url, headers=headers)\n",
    "    \n",
    "    json_response = json.loads(response.text)\n",
    "\n",
    "    # Parse thru the JSON to get the required info. Below are my parsing commands & process,\n",
    "    #print(json_response.keys()) #Returned 3 keys, will look at all 3 in details:\n",
    "        ##### print(pd.json_normalize(json_response['businesses'])) # Jackpot!\n",
    "        #print(pd.json_normalize(json_response['total'])) # This doesn't work.. trying this instead:\n",
    "            ##### print(json_response['total']) # It seems to return the total number of results. So although we hit our limit of 50, we could get the total number of results there. Interesting! I will store this as well, it may come in handy\n",
    "        #print(pd.json_normalize(json_response['region'])) #returning us our lat/long.. don't need this\n",
    "\n",
    "    # Add to a df\n",
    "    add_df = pd.json_normalize(json_response['businesses'])\n",
    "\n",
    "    #adding a column to the DF to refer to the ID of the bikes DF. Will be used later to join the data.\n",
    "    add_df['bikestation_id'] = id\n",
    "\n",
    "    #For this project, we'll consolidate all yelp return to a df, but also store the number of results into the bikes df\n",
    "    global yelp_df\n",
    "\n",
    "    yelp_df = pd.concat([yelp_df, add_df], ignore_index=True)\n",
    "\n",
    "    # In this case, instead of returning the len(add_df), I'll return the total. I'm taking note however that I don't have this ability with Foursquare and so when comparing the two number of returns I'll have to take into account that the number of results from Foursquare will be capped to 50 and yelp will not be.\n",
    "    return json_response['total']"
   ]
  },
  {
   "cell_type": "markdown",
   "metadata": {},
   "source": [
    "### Get the data for the bike stations"
   ]
  },
  {
   "cell_type": "code",
   "execution_count": 29,
   "metadata": {},
   "outputs": [],
   "source": [
    "#citybikes_df = pd.read_csv('Vancouver_BikeStation.csv') \n",
    "## skipping for this instance as I added the Foursquare venues already.\n",
    "\n",
    "\n",
    "# Add a column to the df that will include the amount of POIs\n",
    "citybikes_df['yelp_venues'] = \"\"\n",
    "\n",
    "yelp_df = pd.DataFrame() #Creating an empty df to store pulls from Foursquare. Will be used in the function below\n",
    "\n",
    "\n",
    "#We need to loop thru all records of citybikes_df, but also return values of column 'latitude', 'Longitude' and 'id' as they are needed for the get_business_yelp function. This is the only working solution I found:\n",
    "for i, j, k in zip(citybikes_df['id'].values, citybikes_df['latitude'].values, citybikes_df['longitude'].values):\n",
    "    \n",
    "    # Yelp API divides lat and long so we won't merge them in a formatted string\n",
    "    lat= str(j)\n",
    "    long= str(k)\n",
    "       \n",
    "    #modify value of a column where the value of another column is a certain value\n",
    "    citybikes_df.loc[citybikes_df['id'] == i, 'yelp_venues'] = get_business_yelp(lat, long, i)    "
   ]
  },
  {
   "cell_type": "markdown",
   "metadata": {
    "tags": []
   },
   "source": [
    "## Parse through the response to get the POI (such as restaurants, bars, etc) details you want (ratings, name, location, etc)"
   ]
  },
  {
   "cell_type": "markdown",
   "metadata": {
    "tags": []
   },
   "source": [
    "### We didn't have the ability to return only the columns we wanted in this API. So we'll have to drop them here."
   ]
  },
  {
   "cell_type": "code",
   "execution_count": 30,
   "metadata": {
    "tags": []
   },
   "outputs": [],
   "source": [
    "yelp_df.drop(['alias', 'image_url', 'is_closed', 'url', 'transactions', 'coordinates.longitude', 'location.address1', 'location.address2', 'location.address3', 'location.city', 'location.zip_code', 'location.country', 'location.state', 'location.display_address'], axis=1, inplace=True)"
   ]
  },
  {
   "cell_type": "markdown",
   "metadata": {
    "tags": []
   },
   "source": [
    "### Had to do it twice, some columns were hidden"
   ]
  },
  {
   "cell_type": "code",
   "execution_count": 31,
   "metadata": {},
   "outputs": [
    {
     "data": {
      "text/html": [
       "<div>\n",
       "<style scoped>\n",
       "    .dataframe tbody tr th:only-of-type {\n",
       "        vertical-align: middle;\n",
       "    }\n",
       "\n",
       "    .dataframe tbody tr th {\n",
       "        vertical-align: top;\n",
       "    }\n",
       "\n",
       "    .dataframe thead th {\n",
       "        text-align: right;\n",
       "    }\n",
       "</style>\n",
       "<table border=\"1\" class=\"dataframe\">\n",
       "  <thead>\n",
       "    <tr style=\"text-align: right;\">\n",
       "      <th></th>\n",
       "      <th>id</th>\n",
       "      <th>name</th>\n",
       "      <th>review_count</th>\n",
       "      <th>categories</th>\n",
       "      <th>rating</th>\n",
       "      <th>bikestation_id</th>\n",
       "    </tr>\n",
       "  </thead>\n",
       "  <tbody>\n",
       "    <tr>\n",
       "      <th>0</th>\n",
       "      <td>6iOAgzJ0DRZNSKA3FSrrOg</td>\n",
       "      <td>La Taqueria Pinche Taco Shop</td>\n",
       "      <td>668</td>\n",
       "      <td>[{'alias': 'mexican', 'title': 'Mexican'}]</td>\n",
       "      <td>4.0</td>\n",
       "      <td>7a19c49f486d7c0c02b3685d7b240448</td>\n",
       "    </tr>\n",
       "    <tr>\n",
       "      <th>1</th>\n",
       "      <td>AEOyRbQtYD3bmX1qJWvt4g</td>\n",
       "      <td>Peaceful Restaurant</td>\n",
       "      <td>610</td>\n",
       "      <td>[{'alias': 'chinese', 'title': 'Chinese'}, {'a...</td>\n",
       "      <td>3.5</td>\n",
       "      <td>7a19c49f486d7c0c02b3685d7b240448</td>\n",
       "    </tr>\n",
       "    <tr>\n",
       "      <th>2</th>\n",
       "      <td>NensKn1MSVU_rm-1Y6WlFA</td>\n",
       "      <td>Marulilu Cafe</td>\n",
       "      <td>281</td>\n",
       "      <td>[{'alias': 'cafes', 'title': 'Cafes'}]</td>\n",
       "      <td>4.0</td>\n",
       "      <td>7a19c49f486d7c0c02b3685d7b240448</td>\n",
       "    </tr>\n",
       "    <tr>\n",
       "      <th>3</th>\n",
       "      <td>nkDZY5xqihF3XtZMzzfqqg</td>\n",
       "      <td>Hokkaido Ramen Santouka</td>\n",
       "      <td>218</td>\n",
       "      <td>[{'alias': 'noodles', 'title': 'Noodles'}, {'a...</td>\n",
       "      <td>4.0</td>\n",
       "      <td>7a19c49f486d7c0c02b3685d7b240448</td>\n",
       "    </tr>\n",
       "    <tr>\n",
       "      <th>4</th>\n",
       "      <td>XAH2HpuUUtu7CUO26pbs4w</td>\n",
       "      <td>Saku</td>\n",
       "      <td>182</td>\n",
       "      <td>[{'alias': 'japanese', 'title': 'Japanese'}]</td>\n",
       "      <td>4.0</td>\n",
       "      <td>7a19c49f486d7c0c02b3685d7b240448</td>\n",
       "    </tr>\n",
       "  </tbody>\n",
       "</table>\n",
       "</div>"
      ],
      "text/plain": [
       "                       id                          name  review_count  \\\n",
       "0  6iOAgzJ0DRZNSKA3FSrrOg  La Taqueria Pinche Taco Shop           668   \n",
       "1  AEOyRbQtYD3bmX1qJWvt4g           Peaceful Restaurant           610   \n",
       "2  NensKn1MSVU_rm-1Y6WlFA                 Marulilu Cafe           281   \n",
       "3  nkDZY5xqihF3XtZMzzfqqg       Hokkaido Ramen Santouka           218   \n",
       "4  XAH2HpuUUtu7CUO26pbs4w                          Saku           182   \n",
       "\n",
       "                                          categories  rating  \\\n",
       "0         [{'alias': 'mexican', 'title': 'Mexican'}]     4.0   \n",
       "1  [{'alias': 'chinese', 'title': 'Chinese'}, {'a...     3.5   \n",
       "2             [{'alias': 'cafes', 'title': 'Cafes'}]     4.0   \n",
       "3  [{'alias': 'noodles', 'title': 'Noodles'}, {'a...     4.0   \n",
       "4       [{'alias': 'japanese', 'title': 'Japanese'}]     4.0   \n",
       "\n",
       "                     bikestation_id  \n",
       "0  7a19c49f486d7c0c02b3685d7b240448  \n",
       "1  7a19c49f486d7c0c02b3685d7b240448  \n",
       "2  7a19c49f486d7c0c02b3685d7b240448  \n",
       "3  7a19c49f486d7c0c02b3685d7b240448  \n",
       "4  7a19c49f486d7c0c02b3685d7b240448  "
      ]
     },
     "execution_count": 31,
     "metadata": {},
     "output_type": "execute_result"
    }
   ],
   "source": [
    "yelp_df.drop(['price', 'phone', 'display_phone', 'distance', 'coordinates.latitude'], axis=1, inplace=True)\n",
    "yelp_df.head()"
   ]
  },
  {
   "cell_type": "markdown",
   "metadata": {
    "jp-MarkdownHeadingCollapsed": true,
    "tags": []
   },
   "source": [
    "## Put your parsed results into a DataFrame"
   ]
  },
  {
   "cell_type": "code",
   "execution_count": 32,
   "metadata": {},
   "outputs": [],
   "source": [
    "# Results are stored in yelp_df. However, I will save them to a csv as well.\n",
    "yelp_df.to_csv('Yelp_venues.csv')"
   ]
  },
  {
   "cell_type": "code",
   "execution_count": 33,
   "metadata": {},
   "outputs": [],
   "source": [
    "# Same for the citybikes\n",
    "citybikes_df.to_csv('Vancouver_BikeStation_Enriched.csv')"
   ]
  },
  {
   "cell_type": "markdown",
   "metadata": {},
   "source": [
    "# Comparing Results"
   ]
  },
  {
   "cell_type": "markdown",
   "metadata": {
    "tags": []
   },
   "source": [
    "## Which API provided you with more complete data? Provide an explanation. "
   ]
  },
  {
   "cell_type": "markdown",
   "metadata": {},
   "source": [
    "When I was cleaning the data, Yelp had much more details on venues than Foursquare did.\n",
    "\n",
    "However, in our case, we are also interested in the amount of venues returned by each, for each bike stations. Both queries have the same radius and we are pulling venues with equivalent categories. Therefore, looking at the amount of returns they provided for each bike stations could help us determine which provides more complete data.\n",
    "\n",
    "Let's crunch the numbers:"
   ]
  },
  {
   "cell_type": "code",
   "execution_count": 34,
   "metadata": {},
   "outputs": [
    {
     "name": "stdout",
     "output_type": "stream",
     "text": [
      "foursquare_venues\n",
      "2       2\n",
      "3       1\n",
      "4       1\n",
      "7       1\n",
      "18      2\n",
      "33      3\n",
      "38      2\n",
      "44      2\n",
      "45      9\n",
      "46      3\n",
      "47      3\n",
      "48      2\n",
      "49      2\n",
      "50    208\n",
      "dtype: int64\n"
     ]
    }
   ],
   "source": [
    "## Count the amount of foursquare venues per values use groupby\n",
    "print(citybikes_df.groupby('foursquare_venues').size())"
   ]
  },
  {
   "cell_type": "code",
   "execution_count": 35,
   "metadata": {},
   "outputs": [
    {
     "name": "stdout",
     "output_type": "stream",
     "text": [
      "yelp_venues\n",
      "1     2\n",
      "2     1\n",
      "23    1\n",
      "26    1\n",
      "28    1\n",
      "39    1\n",
      "42    1\n",
      "49    2\n",
      "dtype: int64\n",
      "-----------------------\n",
      "Bike stations with Yelp returning 50 and over POIs: 230\n"
     ]
    }
   ],
   "source": [
    "#For Yelp, our number of venues is not capped to 50, so we'll have to do it in two parts.\n",
    "\n",
    "#Less than 50\n",
    "print(citybikes_df[citybikes_df['yelp_venues'] < 50].groupby('yelp_venues').size())\n",
    "\n",
    "print(\"-----------------------\")\n",
    "\n",
    "#Over 50\n",
    "print(\"Bike stations with Yelp returning 50 and over POIs:\", citybikes_df[citybikes_df['yelp_venues'] > 50].shape[0])"
   ]
  },
  {
   "cell_type": "markdown",
   "metadata": {},
   "source": [
    "From this data, it appears Yelp is returning more data and so we could conclude Yelp is providing us with more complete data, both in amount of results and in details for these results.\n",
    "\n",
    "However, I would add the following consideration: \n",
    "Are Yelp and Foursquare pulling exactly 1000m from the same point? Is Yelp pulling slightly over 1000m, or Foursquare slightly below? It should be noted Foursqure doesn't take the same level of precision in lat/long than Yelp is. It is possible that this is moving the point enough that the results are not the same and, consequently, could significantly disrupt the accuracy of our data.\n",
    "\n",
    "Observing this data on a map would help to quickly see if the pulls are the same and if Yelp is indeed providing us additional results than Foursquare.\n",
    "\n",
    "Nevertheless, Foursquare returns are capped to 50 (meaning even if there is 600 venues around a bikestation, Foursquare still returns us a value of 50). Yelp returns us 50 results as well, but it also includes a total number of returns, which will be more useful for us to use. "
   ]
  },
  {
   "cell_type": "markdown",
   "metadata": {
    "tags": []
   },
   "source": [
    "## Get the top 10 restaurants according to their rating"
   ]
  },
  {
   "cell_type": "code",
   "execution_count": 36,
   "metadata": {},
   "outputs": [
    {
     "data": {
      "text/html": [
       "<div>\n",
       "<style scoped>\n",
       "    .dataframe tbody tr th:only-of-type {\n",
       "        vertical-align: middle;\n",
       "    }\n",
       "\n",
       "    .dataframe tbody tr th {\n",
       "        vertical-align: top;\n",
       "    }\n",
       "\n",
       "    .dataframe thead th {\n",
       "        text-align: right;\n",
       "    }\n",
       "</style>\n",
       "<table border=\"1\" class=\"dataframe\">\n",
       "  <thead>\n",
       "    <tr style=\"text-align: right;\">\n",
       "      <th></th>\n",
       "      <th>id</th>\n",
       "      <th>name</th>\n",
       "      <th>review_count</th>\n",
       "      <th>categories</th>\n",
       "      <th>rating</th>\n",
       "      <th>bikestation_id</th>\n",
       "    </tr>\n",
       "  </thead>\n",
       "  <tbody>\n",
       "    <tr>\n",
       "      <th>58</th>\n",
       "      <td>K1nbiOrySlw_-XG-3NmErQ</td>\n",
       "      <td>Manoush'eh</td>\n",
       "      <td>220</td>\n",
       "      <td>[{'alias': 'mediterranean', 'title': 'Mediterr...</td>\n",
       "      <td>5.0</td>\n",
       "      <td>32603a87cfca71d0f7dfa3513bad69d5</td>\n",
       "    </tr>\n",
       "    <tr>\n",
       "      <th>73</th>\n",
       "      <td>3ByjrLF8nyArUxvO6vqJCw</td>\n",
       "      <td>Incognito Coffee</td>\n",
       "      <td>135</td>\n",
       "      <td>[{'alias': 'coffee', 'title': 'Coffee &amp; Tea'},...</td>\n",
       "      <td>5.0</td>\n",
       "      <td>32603a87cfca71d0f7dfa3513bad69d5</td>\n",
       "    </tr>\n",
       "    <tr>\n",
       "      <th>79</th>\n",
       "      <td>kDZTaeUaf78Jd25ktX8a8g</td>\n",
       "      <td>Number e food</td>\n",
       "      <td>134</td>\n",
       "      <td>[{'alias': 'sandwiches', 'title': 'Sandwiches'...</td>\n",
       "      <td>5.0</td>\n",
       "      <td>32603a87cfca71d0f7dfa3513bad69d5</td>\n",
       "    </tr>\n",
       "    <tr>\n",
       "      <th>360</th>\n",
       "      <td>XFkhu9HNNx6fx1Iz6aRPeA</td>\n",
       "      <td>L'atelier Patisserie</td>\n",
       "      <td>91</td>\n",
       "      <td>[{'alias': 'bakeries', 'title': 'Bakeries'}, {...</td>\n",
       "      <td>5.0</td>\n",
       "      <td>95e624191c655f50e401d280cd39a9ad</td>\n",
       "    </tr>\n",
       "    <tr>\n",
       "      <th>282</th>\n",
       "      <td>pHFumFTvgu653EaRUHuh4w</td>\n",
       "      <td>Smithe Salad</td>\n",
       "      <td>62</td>\n",
       "      <td>[{'alias': 'juicebars', 'title': 'Juice Bars &amp;...</td>\n",
       "      <td>5.0</td>\n",
       "      <td>b07d513f87897cff7319a0e59d7e567c</td>\n",
       "    </tr>\n",
       "    <tr>\n",
       "      <th>5455</th>\n",
       "      <td>viUq9OyTgOGgcdyuNoey3w</td>\n",
       "      <td>The Garden Strathcona</td>\n",
       "      <td>35</td>\n",
       "      <td>[{'alias': 'cafes', 'title': 'Cafes'}, {'alias...</td>\n",
       "      <td>5.0</td>\n",
       "      <td>91035fe1d70b65c9cb8ec4a007af7c7f</td>\n",
       "    </tr>\n",
       "    <tr>\n",
       "      <th>1880</th>\n",
       "      <td>ForB55b3mE5EEhC25sHMnQ</td>\n",
       "      <td>Mazahr Lebanese Kitchen</td>\n",
       "      <td>32</td>\n",
       "      <td>[{'alias': 'lebanese', 'title': 'Lebanese'}]</td>\n",
       "      <td>5.0</td>\n",
       "      <td>71c064fa93cab5f0b7306e6c923b77c4</td>\n",
       "    </tr>\n",
       "    <tr>\n",
       "      <th>5468</th>\n",
       "      <td>XMCI9IrEi0WsBVzYFJ1TzA</td>\n",
       "      <td>Caffe La Tana</td>\n",
       "      <td>27</td>\n",
       "      <td>[{'alias': 'cafes', 'title': 'Cafes'}]</td>\n",
       "      <td>5.0</td>\n",
       "      <td>91035fe1d70b65c9cb8ec4a007af7c7f</td>\n",
       "    </tr>\n",
       "    <tr>\n",
       "      <th>3086</th>\n",
       "      <td>qR4rQOC8ewW0PD5KK9Blng</td>\n",
       "      <td>Casereccio Foods</td>\n",
       "      <td>26</td>\n",
       "      <td>[{'alias': 'italian', 'title': 'Italian'}]</td>\n",
       "      <td>5.0</td>\n",
       "      <td>51e4d3731aebbf9c3186f310a08de6c8</td>\n",
       "    </tr>\n",
       "    <tr>\n",
       "      <th>994</th>\n",
       "      <td>Q7d2jLllssfrP9u3JJGMIw</td>\n",
       "      <td>Arike Restaurant</td>\n",
       "      <td>25</td>\n",
       "      <td>[{'alias': 'african', 'title': 'African'}, {'a...</td>\n",
       "      <td>5.0</td>\n",
       "      <td>1d7e73b3321ebb6713774d376247d9f9</td>\n",
       "    </tr>\n",
       "  </tbody>\n",
       "</table>\n",
       "</div>"
      ],
      "text/plain": [
       "                          id                     name  review_count  \\\n",
       "58    K1nbiOrySlw_-XG-3NmErQ               Manoush'eh           220   \n",
       "73    3ByjrLF8nyArUxvO6vqJCw         Incognito Coffee           135   \n",
       "79    kDZTaeUaf78Jd25ktX8a8g            Number e food           134   \n",
       "360   XFkhu9HNNx6fx1Iz6aRPeA     L'atelier Patisserie            91   \n",
       "282   pHFumFTvgu653EaRUHuh4w             Smithe Salad            62   \n",
       "5455  viUq9OyTgOGgcdyuNoey3w    The Garden Strathcona            35   \n",
       "1880  ForB55b3mE5EEhC25sHMnQ  Mazahr Lebanese Kitchen            32   \n",
       "5468  XMCI9IrEi0WsBVzYFJ1TzA            Caffe La Tana            27   \n",
       "3086  qR4rQOC8ewW0PD5KK9Blng         Casereccio Foods            26   \n",
       "994   Q7d2jLllssfrP9u3JJGMIw         Arike Restaurant            25   \n",
       "\n",
       "                                             categories  rating  \\\n",
       "58    [{'alias': 'mediterranean', 'title': 'Mediterr...     5.0   \n",
       "73    [{'alias': 'coffee', 'title': 'Coffee & Tea'},...     5.0   \n",
       "79    [{'alias': 'sandwiches', 'title': 'Sandwiches'...     5.0   \n",
       "360   [{'alias': 'bakeries', 'title': 'Bakeries'}, {...     5.0   \n",
       "282   [{'alias': 'juicebars', 'title': 'Juice Bars &...     5.0   \n",
       "5455  [{'alias': 'cafes', 'title': 'Cafes'}, {'alias...     5.0   \n",
       "1880       [{'alias': 'lebanese', 'title': 'Lebanese'}]     5.0   \n",
       "5468             [{'alias': 'cafes', 'title': 'Cafes'}]     5.0   \n",
       "3086         [{'alias': 'italian', 'title': 'Italian'}]     5.0   \n",
       "994   [{'alias': 'african', 'title': 'African'}, {'a...     5.0   \n",
       "\n",
       "                        bikestation_id  \n",
       "58    32603a87cfca71d0f7dfa3513bad69d5  \n",
       "73    32603a87cfca71d0f7dfa3513bad69d5  \n",
       "79    32603a87cfca71d0f7dfa3513bad69d5  \n",
       "360   95e624191c655f50e401d280cd39a9ad  \n",
       "282   b07d513f87897cff7319a0e59d7e567c  \n",
       "5455  91035fe1d70b65c9cb8ec4a007af7c7f  \n",
       "1880  71c064fa93cab5f0b7306e6c923b77c4  \n",
       "5468  91035fe1d70b65c9cb8ec4a007af7c7f  \n",
       "3086  51e4d3731aebbf9c3186f310a08de6c8  \n",
       "994   1d7e73b3321ebb6713774d376247d9f9  "
      ]
     },
     "execution_count": 36,
     "metadata": {},
     "output_type": "execute_result"
    }
   ],
   "source": [
    "# Yelp:\n",
    "\n",
    "#The df would return duplicate data if we used it as is (as some restaurants got returned multiples times if close to more than one bikestation)\n",
    "## We'll create one with no duplicate venues\n",
    "yelp_unique_df = yelp_df\n",
    "yelp_unique_df.drop_duplicates(subset=['id'], keep='first', inplace=True)\n",
    "\n",
    "\n",
    "#There are more than 10 restaurants with a rating of 5. We'll sort by rating and then by review_count\n",
    "yelp_unique_df.sort_values(by=['rating', 'review_count'], ascending=[False, False]).head(10)\n",
    "\n"
   ]
  },
  {
   "cell_type": "code",
   "execution_count": 37,
   "metadata": {},
   "outputs": [
    {
     "data": {
      "text/html": [
       "<div>\n",
       "<style scoped>\n",
       "    .dataframe tbody tr th:only-of-type {\n",
       "        vertical-align: middle;\n",
       "    }\n",
       "\n",
       "    .dataframe tbody tr th {\n",
       "        vertical-align: top;\n",
       "    }\n",
       "\n",
       "    .dataframe thead th {\n",
       "        text-align: right;\n",
       "    }\n",
       "</style>\n",
       "<table border=\"1\" class=\"dataframe\">\n",
       "  <thead>\n",
       "    <tr style=\"text-align: right;\">\n",
       "      <th></th>\n",
       "      <th>fsq_id</th>\n",
       "      <th>categories</th>\n",
       "      <th>name</th>\n",
       "      <th>rating</th>\n",
       "      <th>bikestation_id</th>\n",
       "    </tr>\n",
       "  </thead>\n",
       "  <tbody>\n",
       "    <tr>\n",
       "      <th>124</th>\n",
       "      <td>5075f7b9f2e73b925f6431ef</td>\n",
       "      <td>[{'id': 10001, 'name': 'Amusement Park', 'icon...</td>\n",
       "      <td>FlyOver Canada</td>\n",
       "      <td>9.3</td>\n",
       "      <td>6d42fa40360f9a6b2bf641c7b8bb2862</td>\n",
       "    </tr>\n",
       "    <tr>\n",
       "      <th>102</th>\n",
       "      <td>4d9b41359298b1f7635b5338</td>\n",
       "      <td>[{'id': 13034, 'name': 'Café', 'icon': {'prefi...</td>\n",
       "      <td>Revolver</td>\n",
       "      <td>9.3</td>\n",
       "      <td>6d42fa40360f9a6b2bf641c7b8bb2862</td>\n",
       "    </tr>\n",
       "    <tr>\n",
       "      <th>350</th>\n",
       "      <td>54bea64f498ec3ed3dde9a10</td>\n",
       "      <td>[{'id': 13046, 'name': 'Ice Cream Parlor', 'ic...</td>\n",
       "      <td>Earnest Ice Cream</td>\n",
       "      <td>9.3</td>\n",
       "      <td>95e624191c655f50e401d280cd39a9ad</td>\n",
       "    </tr>\n",
       "    <tr>\n",
       "      <th>2</th>\n",
       "      <td>51b201d27dd249ae714ba728</td>\n",
       "      <td>[{'id': 13003, 'name': 'Bar', 'icon': {'prefix...</td>\n",
       "      <td>33 Acres Brewing Co</td>\n",
       "      <td>9.2</td>\n",
       "      <td>7a19c49f486d7c0c02b3685d7b240448</td>\n",
       "    </tr>\n",
       "    <tr>\n",
       "      <th>954</th>\n",
       "      <td>4aa80589f964a520ca4e20e3</td>\n",
       "      <td>[{'id': 13263, 'name': 'Japanese Restaurant', ...</td>\n",
       "      <td>Guu with Garlic</td>\n",
       "      <td>9.1</td>\n",
       "      <td>1d7e73b3321ebb6713774d376247d9f9</td>\n",
       "    </tr>\n",
       "    <tr>\n",
       "      <th>105</th>\n",
       "      <td>4aa7f22bf964a520214e20e3</td>\n",
       "      <td>[{'id': 13383, 'name': 'Steakhouse', 'icon': {...</td>\n",
       "      <td>Gotham Steakhouse &amp; Cocktail Bar</td>\n",
       "      <td>9.1</td>\n",
       "      <td>6d42fa40360f9a6b2bf641c7b8bb2862</td>\n",
       "    </tr>\n",
       "    <tr>\n",
       "      <th>511</th>\n",
       "      <td>5646ab13498e460c732920e8</td>\n",
       "      <td>[{'id': 13272, 'name': 'Ramen Restaurant', 'ic...</td>\n",
       "      <td>Ramen Danbo - Robson</td>\n",
       "      <td>9.1</td>\n",
       "      <td>bf8408067b0e0c963f3ff526977bcef3</td>\n",
       "    </tr>\n",
       "    <tr>\n",
       "      <th>1759</th>\n",
       "      <td>5780683c498e51523ab4851b</td>\n",
       "      <td>[{'id': 13049, 'name': 'Diner', 'icon': {'pref...</td>\n",
       "      <td>Raisu</td>\n",
       "      <td>9.1</td>\n",
       "      <td>b9fd847d53fe45658fee4c46e7f562b8</td>\n",
       "    </tr>\n",
       "    <tr>\n",
       "      <th>1506</th>\n",
       "      <td>553ac7e1498e04e927f8762d</td>\n",
       "      <td>[{'id': 13034, 'name': 'Café', 'icon': {'prefi...</td>\n",
       "      <td>Birds &amp; the Beets</td>\n",
       "      <td>9.1</td>\n",
       "      <td>f1ca711137cde59e824167a4274df888</td>\n",
       "    </tr>\n",
       "    <tr>\n",
       "      <th>115</th>\n",
       "      <td>4d2cce46ae3a8cfa4067bf70</td>\n",
       "      <td>[{'id': 13065, 'name': 'Restaurant', 'icon': {...</td>\n",
       "      <td>Hawksworth Restaurant</td>\n",
       "      <td>9.1</td>\n",
       "      <td>6d42fa40360f9a6b2bf641c7b8bb2862</td>\n",
       "    </tr>\n",
       "    <tr>\n",
       "      <th>1513</th>\n",
       "      <td>55c40e66498e739ed2c87adf</td>\n",
       "      <td>[{'id': 13065, 'name': 'Restaurant', 'icon': {...</td>\n",
       "      <td>The Mackenzie Room</td>\n",
       "      <td>9.1</td>\n",
       "      <td>f1ca711137cde59e824167a4274df888</td>\n",
       "    </tr>\n",
       "    <tr>\n",
       "      <th>0</th>\n",
       "      <td>5674aec9498e6800815c3598</td>\n",
       "      <td>[{'id': 13199, 'name': 'Indian Restaurant', 'i...</td>\n",
       "      <td>Vij's</td>\n",
       "      <td>9.0</td>\n",
       "      <td>7a19c49f486d7c0c02b3685d7b240448</td>\n",
       "    </tr>\n",
       "    <tr>\n",
       "      <th>51</th>\n",
       "      <td>4fac04c2e4b0685b5b224d9d</td>\n",
       "      <td>[{'id': 13276, 'name': 'Sushi Restaurant', 'ic...</td>\n",
       "      <td>Minami Restaurant</td>\n",
       "      <td>9.0</td>\n",
       "      <td>32603a87cfca71d0f7dfa3513bad69d5</td>\n",
       "    </tr>\n",
       "  </tbody>\n",
       "</table>\n",
       "</div>"
      ],
      "text/plain": [
       "                        fsq_id  \\\n",
       "124   5075f7b9f2e73b925f6431ef   \n",
       "102   4d9b41359298b1f7635b5338   \n",
       "350   54bea64f498ec3ed3dde9a10   \n",
       "2     51b201d27dd249ae714ba728   \n",
       "954   4aa80589f964a520ca4e20e3   \n",
       "105   4aa7f22bf964a520214e20e3   \n",
       "511   5646ab13498e460c732920e8   \n",
       "1759  5780683c498e51523ab4851b   \n",
       "1506  553ac7e1498e04e927f8762d   \n",
       "115   4d2cce46ae3a8cfa4067bf70   \n",
       "1513  55c40e66498e739ed2c87adf   \n",
       "0     5674aec9498e6800815c3598   \n",
       "51    4fac04c2e4b0685b5b224d9d   \n",
       "\n",
       "                                             categories  \\\n",
       "124   [{'id': 10001, 'name': 'Amusement Park', 'icon...   \n",
       "102   [{'id': 13034, 'name': 'Café', 'icon': {'prefi...   \n",
       "350   [{'id': 13046, 'name': 'Ice Cream Parlor', 'ic...   \n",
       "2     [{'id': 13003, 'name': 'Bar', 'icon': {'prefix...   \n",
       "954   [{'id': 13263, 'name': 'Japanese Restaurant', ...   \n",
       "105   [{'id': 13383, 'name': 'Steakhouse', 'icon': {...   \n",
       "511   [{'id': 13272, 'name': 'Ramen Restaurant', 'ic...   \n",
       "1759  [{'id': 13049, 'name': 'Diner', 'icon': {'pref...   \n",
       "1506  [{'id': 13034, 'name': 'Café', 'icon': {'prefi...   \n",
       "115   [{'id': 13065, 'name': 'Restaurant', 'icon': {...   \n",
       "1513  [{'id': 13065, 'name': 'Restaurant', 'icon': {...   \n",
       "0     [{'id': 13199, 'name': 'Indian Restaurant', 'i...   \n",
       "51    [{'id': 13276, 'name': 'Sushi Restaurant', 'ic...   \n",
       "\n",
       "                                  name  rating  \\\n",
       "124                     FlyOver Canada     9.3   \n",
       "102                           Revolver     9.3   \n",
       "350                  Earnest Ice Cream     9.3   \n",
       "2                  33 Acres Brewing Co     9.2   \n",
       "954                    Guu with Garlic     9.1   \n",
       "105   Gotham Steakhouse & Cocktail Bar     9.1   \n",
       "511               Ramen Danbo - Robson     9.1   \n",
       "1759                             Raisu     9.1   \n",
       "1506                 Birds & the Beets     9.1   \n",
       "115              Hawksworth Restaurant     9.1   \n",
       "1513                The Mackenzie Room     9.1   \n",
       "0                                Vij's     9.0   \n",
       "51                   Minami Restaurant     9.0   \n",
       "\n",
       "                        bikestation_id  \n",
       "124   6d42fa40360f9a6b2bf641c7b8bb2862  \n",
       "102   6d42fa40360f9a6b2bf641c7b8bb2862  \n",
       "350   95e624191c655f50e401d280cd39a9ad  \n",
       "2     7a19c49f486d7c0c02b3685d7b240448  \n",
       "954   1d7e73b3321ebb6713774d376247d9f9  \n",
       "105   6d42fa40360f9a6b2bf641c7b8bb2862  \n",
       "511   bf8408067b0e0c963f3ff526977bcef3  \n",
       "1759  b9fd847d53fe45658fee4c46e7f562b8  \n",
       "1506  f1ca711137cde59e824167a4274df888  \n",
       "115   6d42fa40360f9a6b2bf641c7b8bb2862  \n",
       "1513  f1ca711137cde59e824167a4274df888  \n",
       "0     7a19c49f486d7c0c02b3685d7b240448  \n",
       "51    32603a87cfca71d0f7dfa3513bad69d5  "
      ]
     },
     "execution_count": 37,
     "metadata": {},
     "output_type": "execute_result"
    }
   ],
   "source": [
    "#Foursquare:\n",
    "#The df would return duplicate data if we used it as is (as some restaurants got returned multiples times if close to more than one bikestation)\n",
    "## We'll create one with no duplicate venues\n",
    "fsq_unique_df = fsq_df\n",
    "fsq_unique_df.drop_duplicates(subset=['fsq_id'], keep='first', inplace=True)\n",
    "\n",
    "#Foursqure has a more precise rating system than yelp. However, I've added a bit more rows than 10 as 10 & 11\n",
    "fsq_unique_df.sort_values(by=['rating'], ascending=[False]).head(13)"
   ]
  }
 ],
 "metadata": {
  "kernelspec": {
   "display_name": "Python 3 (ipykernel)",
   "language": "python",
   "name": "python3"
  },
  "language_info": {
   "codemirror_mode": {
    "name": "ipython",
    "version": 3
   },
   "file_extension": ".py",
   "mimetype": "text/x-python",
   "name": "python",
   "nbconvert_exporter": "python",
   "pygments_lexer": "ipython3",
   "version": "3.9.13"
  }
 },
 "nbformat": 4,
 "nbformat_minor": 4
}
